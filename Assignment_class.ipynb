{
 "cells": [
  {
   "cell_type": "code",
   "execution_count": 1,
   "id": "6a99c8a8-9489-4f7e-b2a5-8e3ac95a9c87",
   "metadata": {},
   "outputs": [],
   "source": [
    "from Mergedfile import Multifuntion"
   ]
  },
  {
   "cell_type": "code",
   "execution_count": 2,
   "id": "726c7949-fe4d-4842-96eb-cdc93eed2a80",
   "metadata": {},
   "outputs": [
    {
     "name": "stdin",
     "output_type": "stream",
     "text": [
      "S1 98\n",
      "S2 87\n",
      "S3 95\n",
      "S4 95\n",
      "S5 93\n"
     ]
    },
    {
     "name": "stdout",
     "output_type": "stream",
     "text": [
      "Total: 468\n",
      "Percentage: 93.6\n"
     ]
    }
   ],
   "source": [
    "Multifuntion.percentage()"
   ]
  },
  {
   "cell_type": "code",
   "execution_count": 6,
   "id": "635496b0-3fce-41e4-9950-5cd691db0fc9",
   "metadata": {},
   "outputs": [
    {
     "name": "stdout",
     "output_type": "stream",
     "text": [
      "Sub-fields in AI are:\n",
      "Machine Learning\n",
      "Neural Networks\n",
      "Vision\n",
      "Robotics\n",
      "Speech Processing\n",
      "Natural Language Processing\n"
     ]
    }
   ],
   "source": [
    "Multifuntion.Subfields()"
   ]
  },
  {
   "cell_type": "code",
   "execution_count": 8,
   "id": "669eaba7-b915-4634-8b60-6f21b1dbff92",
   "metadata": {},
   "outputs": [
    {
     "name": "stdin",
     "output_type": "stream",
     "text": [
      "Enter a number:  52432\n"
     ]
    },
    {
     "name": "stdout",
     "output_type": "stream",
     "text": [
      "52432 is Even\n"
     ]
    },
    {
     "data": {
      "text/plain": [
       "'even'"
      ]
     },
     "execution_count": 8,
     "metadata": {},
     "output_type": "execute_result"
    }
   ],
   "source": [
    "Multifuntion.oddeven()"
   ]
  },
  {
   "cell_type": "code",
   "execution_count": 10,
   "id": "58b6e4db-57a4-4611-a199-73d1cd071d08",
   "metadata": {},
   "outputs": [
    {
     "name": "stdin",
     "output_type": "stream",
     "text": [
      "Your Gender:  MALE\n",
      "Your Age:  21\n"
     ]
    },
    {
     "name": "stdout",
     "output_type": "stream",
     "text": [
      "ELIGIBLE\n"
     ]
    }
   ],
   "source": [
    "Multifuntion.Eligible()"
   ]
  },
  {
   "cell_type": "code",
   "execution_count": 12,
   "id": "6af25f30-66af-4e81-a8e7-d7d8fb349444",
   "metadata": {},
   "outputs": [
    {
     "name": "stdin",
     "output_type": "stream",
     "text": [
      "height 32\n",
      "Breadth 34\n"
     ]
    },
    {
     "name": "stdout",
     "output_type": "stream",
     "text": [
      "Area formula: (Height*Breadth)/2\n",
      "Area of Triangle: 544.0\n"
     ]
    },
    {
     "name": "stdin",
     "output_type": "stream",
     "text": [
      "h1 2\n",
      "h2 4\n",
      "Breadth 4\n"
     ]
    },
    {
     "name": "stdout",
     "output_type": "stream",
     "text": [
      "Perimeter formula: H1+H2+Breadth\n",
      "Perimeter of Triangle: 10\n"
     ]
    }
   ],
   "source": [
    "Multifuntion.triangle()"
   ]
  },
  {
   "cell_type": "code",
   "execution_count": null,
   "id": "1f588125-8523-4acb-ab18-b7b05e3ee8cd",
   "metadata": {},
   "outputs": [],
   "source": []
  }
 ],
 "metadata": {
  "kernelspec": {
   "display_name": "Python 3 (ipykernel)",
   "language": "python",
   "name": "python3"
  },
  "language_info": {
   "codemirror_mode": {
    "name": "ipython",
    "version": 3
   },
   "file_extension": ".py",
   "mimetype": "text/x-python",
   "name": "python",
   "nbconvert_exporter": "python",
   "pygments_lexer": "ipython3",
   "version": "3.12.4"
  }
 },
 "nbformat": 4,
 "nbformat_minor": 5
}
