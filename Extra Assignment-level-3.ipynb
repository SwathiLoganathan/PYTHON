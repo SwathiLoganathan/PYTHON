{
 "cells": [
  {
   "cell_type": "code",
   "execution_count": 1,
   "id": "ac9d9626-6e6e-4486-aa58-b5f4f18a6da5",
   "metadata": {},
   "outputs": [
    {
     "name": "stdout",
     "output_type": "stream",
     "text": [
      "value= 10\n",
      "correct\n"
     ]
    }
   ],
   "source": [
    "i=10\n",
    "if i==10:\n",
    "    print(\"value=\",i)\n",
    "    print(\"correct\")\n",
    "else:\n",
    "    print(\"Incorrect\")"
   ]
  },
  {
   "cell_type": "code",
   "execution_count": 1,
   "id": "3dbef854-f6aa-454e-8312-9a67fe1e9fc6",
   "metadata": {},
   "outputs": [
    {
     "name": "stdin",
     "output_type": "stream",
     "text": [
      "Enter the password: HOPE@123\n"
     ]
    },
    {
     "name": "stdout",
     "output_type": "stream",
     "text": [
      "Your password is correct\n"
     ]
    }
   ],
   "source": [
    "pasw=input(\"Enter the password:\")\n",
    "if (pasw=='HOPE@123'):\n",
    "    print(\"Your password is correct\")\n",
    "else:\n",
    "    print(\"Your password is not correct\")\n",
    "\n",
    "    "
   ]
  },
  {
   "cell_type": "code",
   "execution_count": 3,
   "id": "c9f15946-fc89-4627-866c-7f02fa88105a",
   "metadata": {},
   "outputs": [
    {
     "name": "stdin",
     "output_type": "stream",
     "text": [
      " age: 20\n"
     ]
    },
    {
     "name": "stdout",
     "output_type": "stream",
     "text": [
      "adult\n"
     ]
    }
   ],
   "source": [
    "age=int(input(\" age:\"))\n",
    "if(age<=18):\n",
    "    print(\"child\")\n",
    "elif(age<35):\n",
    "    print(\"adult\")\n",
    "elif(age<59):\n",
    "    print(\"citizen\")\n",
    "else:   \n",
    "    print(\"SC\")"
   ]
  },
  {
   "cell_type": "code",
   "execution_count": 3,
   "id": "7e86aa7e-4118-4151-95e3-7c0534b475d1",
   "metadata": {},
   "outputs": [
    {
     "name": "stdin",
     "output_type": "stream",
     "text": [
      "Enter any number 1\n"
     ]
    },
    {
     "name": "stdout",
     "output_type": "stream",
     "text": [
      "No is positive\n"
     ]
    }
   ],
   "source": [
    "num=int(input(\"Enter any number\"))\n",
    "if(num>0):\n",
    "   print(\"No is positive\")\n",
    "elif(num==0):\n",
    "    print(\"midpoint\")\n",
    "else:    \n",
    "     print(\"No is Negative\")   \n",
    "        \n",
    "        "
   ]
  },
  {
   "cell_type": "code",
   "execution_count": 1,
   "id": "c3f0ce23-a6cf-4eb5-a398-da41535e4ebe",
   "metadata": {},
   "outputs": [
    {
     "name": "stdin",
     "output_type": "stream",
     "text": [
      "Enter a number to check 22\n"
     ]
    },
    {
     "name": "stdout",
     "output_type": "stream",
     "text": [
      "No is  Divisible by 5\n"
     ]
    }
   ],
   "source": [
    "num1=int(input(\"Enter a number to check\"))\n",
    "if(num1%5==0):\n",
    "    print(\"No is not Divisible by 5\")\n",
    "else:\n",
    "    print(\"No is  Divisible by 5\")     \n",
    "         "
   ]
  },
  {
   "cell_type": "code",
   "execution_count": null,
   "id": "b48e1f4f-80a5-4443-990d-26b79c7396b4",
   "metadata": {},
   "outputs": [],
   "source": []
  }
 ],
 "metadata": {
  "kernelspec": {
   "display_name": "Python 3 (ipykernel)",
   "language": "python",
   "name": "python3"
  },
  "language_info": {
   "codemirror_mode": {
    "name": "ipython",
    "version": 3
   },
   "file_extension": ".py",
   "mimetype": "text/x-python",
   "name": "python",
   "nbconvert_exporter": "python",
   "pygments_lexer": "ipython3",
   "version": "3.12.4"
  }
 },
 "nbformat": 4,
 "nbformat_minor": 5
}
