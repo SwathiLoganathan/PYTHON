{
 "cells": [
  {
   "cell_type": "code",
   "execution_count": 1,
   "id": "31a5d226-4fd2-4cf1-baee-11ec52120da6",
   "metadata": {},
   "outputs": [
    {
     "name": "stdout",
     "output_type": "stream",
     "text": [
      "Sub-fields in AI are:\n",
      "Machine Learning\n",
      "Neural Networks\n",
      "Vision\n",
      "Robotics\n",
      "Speech Processing\n",
      "Natural Language Processing\n"
     ]
    }
   ],
   "source": [
    "\n",
    "class SubfieldsInAI:\n",
    " \n",
    "    def Subfields(self):\n",
    "       \n",
    "        subfields = [\n",
    "            \"Machine Learning\",\n",
    "            \"Neural Networks\",\n",
    "            \"Vision\",\n",
    "            \"Robotics\",\n",
    "            \"Speech Processing\",\n",
    "            \"Natural Language Processing\" ]\n",
    "       \n",
    "        print(\"Sub-fields in AI are:\")\n",
    "        \n",
    "   \n",
    "        for subfield in subfields:\n",
    "            print(subfield)\n",
    "\n",
    "\n",
    "ai_subfields = SubfieldsInAI()\n",
    "\n",
    "\n",
    "ai_subfields.Subfields()\n"
   ]
  },
  {
   "cell_type": "code",
   "execution_count": 1,
   "id": "3c56fd47-c7de-4489-ad55-66ced4e4391d",
   "metadata": {},
   "outputs": [
    {
     "name": "stdin",
     "output_type": "stream",
     "text": [
      "Enter a number:  52452\n"
     ]
    },
    {
     "name": "stdout",
     "output_type": "stream",
     "text": [
      "52452 is Even\n",
      "The number is even\n"
     ]
    }
   ],
   "source": [
    "def oddeven():\n",
    "    num1 = int(input(\"Enter a number: \"))\n",
    "    if num1 % 2 == 0:\n",
    "        print(num1, \"is Even\")\n",
    "        message = \"even\"\n",
    "    else:\n",
    "        print(num1, \"is Odd\")\n",
    "        message = \"odd\"\n",
    "    return message\n",
    "result = oddeven()\n",
    "print(\"The number is\", result)\n"
   ]
  },
  {
   "cell_type": "code",
   "execution_count": 1,
   "id": "a27bca93-92c8-4183-add8-3f6e3f475d2f",
   "metadata": {},
   "outputs": [
    {
     "name": "stdin",
     "output_type": "stream",
     "text": [
      "Your Gender:  Male\n",
      "Your Age:  20\n"
     ]
    },
    {
     "name": "stdout",
     "output_type": "stream",
     "text": [
      "NOT ELIGIBLE\n"
     ]
    }
   ],
   "source": [
    "class ElegibilityForMarriage:\n",
    "    def Eligible(self):\n",
    "        gender = input(\"Your Gender: \")\n",
    "        age = int(input(\"Your Age: \"))\n",
    "        \n",
    "        if gender.lower() == \"male\":\n",
    "            if age >= 21:\n",
    "                print(\"ELIGIBLE\")\n",
    "            else:\n",
    "                print(\"NOT ELIGIBLE\")\n",
    "        elif gender.lower() == \"female\":\n",
    "            if age >= 18:\n",
    "                print(\"ELIGIBLE\")\n",
    "            else:\n",
    "                print(\"NOT ELIGIBLE\")\n",
    "        else:\n",
    "            print(\" Please enter 'male' or 'female'.\")\n",
    "\n",
    "marriage_eligibility = ElegibilityForMarriage()\n",
    "\n",
    "marriage_eligibility.Eligible()\n"
   ]
  },
  {
   "cell_type": "code",
   "execution_count": 1,
   "id": "69fcbf0c-bee5-4378-bee1-a0b0c1289393",
   "metadata": {},
   "outputs": [
    {
     "name": "stdout",
     "output_type": "stream",
     "text": [
      "S1 = 98\n",
      "S2 = 87\n",
      "S3 = 95\n",
      "S4 = 95\n",
      "S5 = 93\n",
      "Total: 468\n",
      "Percentage: 93.60000000000001\n"
     ]
    }
   ],
   "source": [
    "class FindPercent:\n",
    "    def percentage(self):\n",
    "     \n",
    "        S1 = 98\n",
    "        S2 = 87\n",
    "        S3 = 95\n",
    "        S4 = 95\n",
    "        S5 = 93\n",
    "        \n",
    "        total = S1 + S2 + S3 + S4 + S5\n",
    "        \n",
    "        percentage = (total / 500) * 100\n",
    "        print(\"S1 =\", S1)\n",
    "        print(\"S2 =\", S2)\n",
    "        print(\"S3 =\", S3)\n",
    "        print(\"S4 =\", S4)\n",
    "        print(\"S5 =\", S5)\n",
    "        print(\"Total:\", total)\n",
    "        print(\"Percentage:\", percentage)\n",
    "find_percent = FindPercent()\n",
    "\n",
    "find_percent.percentage()\n"
   ]
  },
  {
   "cell_type": "code",
   "execution_count": 1,
   "id": "400d68c7-c39e-4e56-9eb2-919b1e16a7b7",
   "metadata": {},
   "outputs": [
    {
     "name": "stdout",
     "output_type": "stream",
     "text": [
      "Height: 32\n",
      "Breadth: 34\n",
      "Area formula: (Height*Breadth)/2\n",
      "Area of Triangle: 544.0\n",
      "H1: 2\n",
      "H2: 4\n",
      "Breadth: 4\n",
      "Perimeter formula: H1+H2+Breadth\n",
      "Perimeter of Triangle: 10\n"
     ]
    }
   ],
   "source": [
    "class Triangle:\n",
    "    def triangle(self):\n",
    "  \n",
    "        height = 32\n",
    "        breadth = 34\n",
    "        area = (height * breadth) / 2\n",
    "        print(\"Height:\", height)\n",
    "        print(\"Breadth:\", breadth)\n",
    "        print(\"Area formula: (Height*Breadth)/2\")\n",
    "        print(\"Area of Triangle:\", area)\n",
    "        \n",
    "        h1 = 2\n",
    "        h2 = 4\n",
    "        breadth = 4\n",
    "        perimeter = h1 + h2 + breadth\n",
    "        print(\"H1:\", h1)\n",
    "        print(\"H2:\", h2)\n",
    "        print(\"Breadth:\", breadth)\n",
    "        print(\"Perimeter formula: H1+H2+Breadth\")\n",
    "        print(\"Perimeter of Triangle:\", perimeter)\n",
    "\n",
    "triangle = Triangle()\n",
    "\n",
    "triangle.triangle()\n"
   ]
  },
  {
   "cell_type": "code",
   "execution_count": null,
   "id": "447d7584-c3e4-40f4-a310-0818675be3aa",
   "metadata": {},
   "outputs": [],
   "source": []
  }
 ],
 "metadata": {
  "kernelspec": {
   "display_name": "Python 3 (ipykernel)",
   "language": "python",
   "name": "python3"
  },
  "language_info": {
   "codemirror_mode": {
    "name": "ipython",
    "version": 3
   },
   "file_extension": ".py",
   "mimetype": "text/x-python",
   "name": "python",
   "nbconvert_exporter": "python",
   "pygments_lexer": "ipython3",
   "version": "3.12.4"
  }
 },
 "nbformat": 4,
 "nbformat_minor": 5
}
