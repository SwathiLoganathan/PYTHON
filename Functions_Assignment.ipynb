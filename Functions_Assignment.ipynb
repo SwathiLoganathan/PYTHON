{
 "cells": [
  {
   "cell_type": "code",
   "execution_count": 1,
   "id": "31a5d226-4fd2-4cf1-baee-11ec52120da6",
   "metadata": {},
   "outputs": [],
   "source": [
    "def Subfields():\n",
    "     subfields = [\"Machine Learning\",\"Neural Networks\",\"Vision\",\"Robotics\",\"Speech Processing\", \"Natural Language Processing\" ]\n",
    "     print(\"Sub-fields in AI are:\")\n",
    "     for subfield in subfields:\n",
    "         print(subfield)\n",
    "\n"
   ]
  },
  {
   "cell_type": "code",
   "execution_count": 2,
   "id": "ebdff87c-0875-4e31-84c9-b0c11c5e9ca2",
   "metadata": {},
   "outputs": [
    {
     "name": "stdout",
     "output_type": "stream",
     "text": [
      "Sub-fields in AI are:\n",
      "Machine Learning\n",
      "Neural Networks\n",
      "Vision\n",
      "Robotics\n",
      "Speech Processing\n",
      "Natural Language Processing\n"
     ]
    }
   ],
   "source": [
    "Subfields()"
   ]
  },
  {
   "cell_type": "code",
   "execution_count": 3,
   "id": "3c56fd47-c7de-4489-ad55-66ced4e4391d",
   "metadata": {},
   "outputs": [
    {
     "name": "stdin",
     "output_type": "stream",
     "text": [
      "Enter a number:  52452\n"
     ]
    },
    {
     "name": "stdout",
     "output_type": "stream",
     "text": [
      "52452 is Even\n"
     ]
    }
   ],
   "source": [
    "def oddeven():\n",
    "    num1 = int(input(\"Enter a number: \"))\n",
    "    if num1 % 2 == 0:\n",
    "        print(num1, \"is Even\")\n",
    "        message = \"even\"\n",
    "    else:\n",
    "        print(num1, \"is Odd\")\n",
    "        message = \"odd\"\n",
    "    return message\n",
    "result = oddeven()\n",
    "\n"
   ]
  },
  {
   "cell_type": "code",
   "execution_count": 4,
   "id": "a27bca93-92c8-4183-add8-3f6e3f475d2f",
   "metadata": {},
   "outputs": [],
   "source": [
    "def Eligible():\n",
    "    gender = input(\"Your Gender: \")\n",
    "    age = int(input(\"Your Age: \"))\n",
    "    if (((gender.lower() ==\"male\") & (age>=21)) or ((gender.lower() ==\"female\") & (age>=18))):\n",
    "        print(\"ELIGIBLE\")\n",
    "    else:\n",
    "        print(\"NOT ELIGIBLE\")\n"
   ]
  },
  {
   "cell_type": "code",
   "execution_count": 5,
   "id": "eec0cbd0-8a62-4f4b-8c88-fc88eccdd13e",
   "metadata": {},
   "outputs": [
    {
     "name": "stdin",
     "output_type": "stream",
     "text": [
      "Your Gender:  MALE\n",
      "Your Age:  21\n"
     ]
    },
    {
     "name": "stdout",
     "output_type": "stream",
     "text": [
      "ELIGIBLE\n"
     ]
    }
   ],
   "source": [
    "Eligible()"
   ]
  },
  {
   "cell_type": "code",
   "execution_count": 6,
   "id": "69fcbf0c-bee5-4378-bee1-a0b0c1289393",
   "metadata": {},
   "outputs": [],
   "source": [
    "def percentage():\n",
    "    S1 = int(input(\"S1\"))\n",
    "    S2 = int(input(\"S2\"))\n",
    "    S3 = int(input(\"S3\"))\n",
    "    S4 = int(input(\"S4\"))\n",
    "    S5 = int(input(\"S5\"))\n",
    "    total = S1 + S2 + S3 + S4 + S5\n",
    "    percentage = (total / 5) \n",
    "    print(\"Total:\", total)\n",
    "    print(\"Percentage:\", percentage)"
   ]
  },
  {
   "cell_type": "code",
   "execution_count": 7,
   "id": "87ff7ccc-ad6a-4091-a10c-afa622862d65",
   "metadata": {},
   "outputs": [
    {
     "name": "stdin",
     "output_type": "stream",
     "text": [
      "S1 98\n",
      "S2 87\n",
      "S3 95\n",
      "S4 95\n",
      "S5 93\n"
     ]
    },
    {
     "name": "stdout",
     "output_type": "stream",
     "text": [
      "Total: 468\n",
      "Percentage: 93.6\n"
     ]
    }
   ],
   "source": [
    "percentage()"
   ]
  },
  {
   "cell_type": "code",
   "execution_count": 8,
   "id": "400d68c7-c39e-4e56-9eb2-919b1e16a7b7",
   "metadata": {},
   "outputs": [],
   "source": [
    "def triangle():\n",
    "    height = int(input(\"height\"))\n",
    "    breadth = int(input(\"Breadth\"))\n",
    "    area = (height * breadth) / 2\n",
    "    print(\"Area formula: (Height*Breadth)/2\")\n",
    "    print(\"Area of Triangle:\", area)\n",
    "    h1 = int(input(\"h1\"))\n",
    "    h2 = int(input(\"h2\"))\n",
    "    breadth =int(input(\"Breadth\")) \n",
    "    perimeter = h1 + h2 + breadth\n",
    "    print(\"Perimeter formula: H1+H2+Breadth\")\n",
    "    print(\"Perimeter of Triangle:\", perimeter)"
   ]
  },
  {
   "cell_type": "code",
   "execution_count": 9,
   "id": "3ddea473-9a03-4eaa-b9de-78e4d640da96",
   "metadata": {},
   "outputs": [
    {
     "name": "stdin",
     "output_type": "stream",
     "text": [
      "height 32\n",
      "Breadth 34\n"
     ]
    },
    {
     "name": "stdout",
     "output_type": "stream",
     "text": [
      "Area formula: (Height*Breadth)/2\n",
      "Area of Triangle: 544.0\n"
     ]
    },
    {
     "name": "stdin",
     "output_type": "stream",
     "text": [
      "h1 2\n",
      "h2 4\n",
      "Breadth 4\n"
     ]
    },
    {
     "name": "stdout",
     "output_type": "stream",
     "text": [
      "Perimeter formula: H1+H2+Breadth\n",
      "Perimeter of Triangle: 10\n"
     ]
    }
   ],
   "source": [
    "triangle()"
   ]
  },
  {
   "cell_type": "code",
   "execution_count": null,
   "id": "447d7584-c3e4-40f4-a310-0818675be3aa",
   "metadata": {},
   "outputs": [],
   "source": []
  }
 ],
 "metadata": {
  "kernelspec": {
   "display_name": "Python 3 (ipykernel)",
   "language": "python",
   "name": "python3"
  },
  "language_info": {
   "codemirror_mode": {
    "name": "ipython",
    "version": 3
   },
   "file_extension": ".py",
   "mimetype": "text/x-python",
   "name": "python",
   "nbconvert_exporter": "python",
   "pygments_lexer": "ipython3",
   "version": "3.12.4"
  }
 },
 "nbformat": 4,
 "nbformat_minor": 5
}
