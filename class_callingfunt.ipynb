{
 "cells": [
  {
   "cell_type": "code",
   "execution_count": 1,
   "id": "9e0e9fb3-1a8e-4f9f-a8cc-30b7d69e9b66",
   "metadata": {},
   "outputs": [],
   "source": [
    "class AIFields:\n",
    "   \n",
    "    def Subfields():\n",
    "        subfields = [\"Machine Learning\", \"Neural Networks\", \"Vision\", \"Robotics\", \"Speech Processing\", \"Natural Language Processing\"]\n",
    "        print(\"Sub-fields in AI are:\")\n",
    "        for subfield in subfields:\n",
    "            print(subfield)"
   ]
  },
  {
   "cell_type": "code",
   "execution_count": 3,
   "id": "845e2432-5048-48df-ade4-5ef3318dd088",
   "metadata": {},
   "outputs": [
    {
     "name": "stdout",
     "output_type": "stream",
     "text": [
      "Sub-fields in AI are:\n",
      "Machine Learning\n",
      "Neural Networks\n",
      "Vision\n",
      "Robotics\n",
      "Speech Processing\n",
      "Natural Language Processing\n"
     ]
    }
   ],
   "source": [
    "AIFields.Subfields()"
   ]
  },
  {
   "cell_type": "code",
   "execution_count": 5,
   "id": "391750c8-b54e-4067-ad43-dc0608f873d4",
   "metadata": {},
   "outputs": [],
   "source": [
    "class Evenodd:\n",
    "    def oddeven():\n",
    "        num1 = int(input(\"Enter a number: \"))\n",
    "        if num1 % 2 == 0:\n",
    "            print(num1, \"is Even\")\n",
    "        else:\n",
    "            print(num1, \"is Odd\")"
   ]
  },
  {
   "cell_type": "code",
   "execution_count": 7,
   "id": "6ec762ba-18ec-47bf-ab0c-343801998ad7",
   "metadata": {},
   "outputs": [
    {
     "name": "stdin",
     "output_type": "stream",
     "text": [
      "Enter a number:  52452\n"
     ]
    },
    {
     "name": "stdout",
     "output_type": "stream",
     "text": [
      "52452 is Even\n"
     ]
    }
   ],
   "source": [
    "Evenodd.oddeven()"
   ]
  },
  {
   "cell_type": "code",
   "execution_count": 9,
   "id": "7b3940e1-e723-49a2-8bf8-c3039bc15a4a",
   "metadata": {},
   "outputs": [],
   "source": [
    "class Marriage:\n",
    "    def Eligible():\n",
    "        gender = input(\"Your Gender: \")\n",
    "        age = int(input(\"Your Age: \"))\n",
    "        if (((gender.lower() ==\"male\") & (age>=21)) or ((gender.lower() ==\"female\") & (age>=18))):\n",
    "            print(\"ELIGIBLE\")\n",
    "        else:\n",
    "            print(\"NOT ELIGIBLE\")\n"
   ]
  },
  {
   "cell_type": "code",
   "execution_count": 11,
   "id": "b8326d62-ff13-47ef-8bfc-bd6ee698af6a",
   "metadata": {},
   "outputs": [
    {
     "name": "stdin",
     "output_type": "stream",
     "text": [
      "Your Gender:  Male\n",
      "Your Age:  23\n"
     ]
    },
    {
     "name": "stdout",
     "output_type": "stream",
     "text": [
      "ELIGIBLE\n"
     ]
    }
   ],
   "source": [
    "Marriage.Eligible()"
   ]
  },
  {
   "cell_type": "code",
   "execution_count": null,
   "id": "8b2ce281-6d30-4e81-9d07-0ccdd16cee0e",
   "metadata": {},
   "outputs": [],
   "source": [
    "class Marks:\n",
    "    def percentage():\n",
    "        S1 = int(input(\"S1\"))\n",
    "        S2 = int(input(\"S2\"))\n",
    "        S3 = int(input(\"S3\"))\n",
    "        S4 = int(input(\"S4\"))\n",
    "        S5 = int(input(\"S5\"))\n",
    "        total = S1 + S2 + S3 + S4 + S5\n",
    "        percentage = (total / 5) \n",
    "        print(\"Total:\", total)\n",
    "        print(\"Percentage:\", percentage)"
   ]
  },
  {
   "cell_type": "code",
   "execution_count": 2,
   "id": "27898763-a805-484f-b7db-e0256f151511",
   "metadata": {},
   "outputs": [
    {
     "name": "stdin",
     "output_type": "stream",
     "text": [
      "S1 98\n",
      "S2 87\n",
      "S3 95\n",
      "S4 95\n",
      "S5 93\n"
     ]
    },
    {
     "name": "stdout",
     "output_type": "stream",
     "text": [
      "Total: 468\n",
      "Percentage: 93.6\n"
     ]
    }
   ],
   "source": [
    "Marks.percentage()"
   ]
  },
  {
   "cell_type": "code",
   "execution_count": 4,
   "id": "7afa3728-64a7-4260-b55e-4b376c7884ee",
   "metadata": {},
   "outputs": [],
   "source": [
    "class angle:\n",
    "    def triangle():\n",
    "        height = int(input(\"height\"))\n",
    "        breadth = int(input(\"Breadth\"))\n",
    "        area = (height * breadth) / 2\n",
    "        print(\"Area formula: (Height*Breadth)/2\")\n",
    "        print(\"Area of Triangle:\", area)\n",
    "        h1 = int(input(\"h1\"))\n",
    "        h2 = int(input(\"h2\"))\n",
    "        breadth =int(input(\"Breadth\")) \n",
    "        perimeter = h1 + h2 + breadth\n",
    "        print(\"Perimeter formula: H1+H2+Breadth\")\n",
    "        print(\"Perimeter of Triangle:\", perimeter)"
   ]
  },
  {
   "cell_type": "code",
   "execution_count": 6,
   "id": "ec82df41-c367-4b4f-b465-0c644503ba98",
   "metadata": {},
   "outputs": [
    {
     "name": "stdin",
     "output_type": "stream",
     "text": [
      "height 32\n",
      "Breadth 34\n"
     ]
    },
    {
     "name": "stdout",
     "output_type": "stream",
     "text": [
      "Area formula: (Height*Breadth)/2\n",
      "Area of Triangle: 544.0\n"
     ]
    },
    {
     "name": "stdin",
     "output_type": "stream",
     "text": [
      "h1 2\n",
      "h2 4\n",
      "Breadth 4\n"
     ]
    },
    {
     "name": "stdout",
     "output_type": "stream",
     "text": [
      "Perimeter formula: H1+H2+Breadth\n",
      "Perimeter of Triangle: 10\n"
     ]
    }
   ],
   "source": [
    "angle.triangle()"
   ]
  },
  {
   "cell_type": "code",
   "execution_count": null,
   "id": "8b477218-dbda-4ff5-b40a-aa4b8990e25f",
   "metadata": {},
   "outputs": [],
   "source": []
  }
 ],
 "metadata": {
  "kernelspec": {
   "display_name": "Python 3 (ipykernel)",
   "language": "python",
   "name": "python3"
  },
  "language_info": {
   "codemirror_mode": {
    "name": "ipython",
    "version": 3
   },
   "file_extension": ".py",
   "mimetype": "text/x-python",
   "name": "python",
   "nbconvert_exporter": "python",
   "pygments_lexer": "ipython3",
   "version": "3.12.4"
  }
 },
 "nbformat": 4,
 "nbformat_minor": 5
}
