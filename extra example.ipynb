{
 "cells": [
  {
   "cell_type": "code",
   "execution_count": 1,
   "id": "a16d4828-39d5-43c4-887c-bbaceb4e5699",
   "metadata": {},
   "outputs": [
    {
     "name": "stdin",
     "output_type": "stream",
     "text": [
      "enter the number: 22\n"
     ]
    },
    {
     "name": "stdout",
     "output_type": "stream",
     "text": [
      "1 * 25 = 25\n",
      "2 * 25 = 50\n",
      "3 * 25 = 75\n",
      "4 * 25 = 100\n",
      "5 * 25 = 125\n",
      "6 * 25 = 150\n",
      "7 * 25 = 175\n",
      "8 * 25 = 200\n",
      "9 * 25 = 225\n",
      "10 * 25 = 250\n",
      "11 * 25 = 275\n",
      "12 * 25 = 300\n",
      "13 * 25 = 325\n",
      "14 * 25 = 350\n",
      "15 * 25 = 375\n",
      "16 * 25 = 400\n",
      "17 * 25 = 425\n",
      "18 * 25 = 450\n",
      "19 * 25 = 475\n",
      "20 * 25 = 500\n"
     ]
    }
   ],
   "source": [
    "n=int(input(\"enter the number:\"))\n",
    "for i in range(1,21):\n",
    "    print(i,\"*\",25,\"=\",i*25)\n"
   ]
  },
  {
   "cell_type": "code",
   "execution_count": null,
   "id": "004137d6-97cc-4d36-a230-4c96fdbd7ec8",
   "metadata": {},
   "outputs": [],
   "source": []
  },
  {
   "cell_type": "code",
   "execution_count": null,
   "id": "4cf25eec-728b-4ae7-a4e2-d02c347f6974",
   "metadata": {},
   "outputs": [],
   "source": []
  },
  {
   "cell_type": "code",
   "execution_count": null,
   "id": "73d5a180-b227-4d11-b8d6-dead65eda0b8",
   "metadata": {},
   "outputs": [],
   "source": []
  },
  {
   "cell_type": "code",
   "execution_count": null,
   "id": "f21cb201-0a16-472c-a755-95f47e910105",
   "metadata": {},
   "outputs": [],
   "source": []
  },
  {
   "cell_type": "code",
   "execution_count": null,
   "id": "344fea0b-fe0e-4ac6-b747-3eac5e3a344b",
   "metadata": {},
   "outputs": [],
   "source": []
  }
 ],
 "metadata": {
  "kernelspec": {
   "display_name": "Python 3 (ipykernel)",
   "language": "python",
   "name": "python3"
  },
  "language_info": {
   "codemirror_mode": {
    "name": "ipython",
    "version": 3
   },
   "file_extension": ".py",
   "mimetype": "text/x-python",
   "name": "python",
   "nbconvert_exporter": "python",
   "pygments_lexer": "ipython3",
   "version": "3.12.4"
  }
 },
 "nbformat": 4,
 "nbformat_minor": 5
}
